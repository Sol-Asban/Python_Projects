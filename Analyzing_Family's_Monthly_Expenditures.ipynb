{
  "nbformat": 4,
  "nbformat_minor": 0,
  "metadata": {
    "colab": {
      "name": "Python Project- Sol.ipynb",
      "provenance": [],
      "collapsed_sections": [],
      "toc_visible": true,
      "authorship_tag": "ABX9TyOlG9DA+3sS585rdoPgzY+f",
      "include_colab_link": true
    },
    "kernelspec": {
      "name": "python3",
      "display_name": "Python 3"
    }
  },
  "cells": [
    {
      "cell_type": "markdown",
      "metadata": {
        "id": "view-in-github",
        "colab_type": "text"
      },
      "source": [
        "<a href=\"https://colab.research.google.com/github/Sol-Asban/Python_Projects/blob/master/Analyzing_Family's_Monthly_Expenditures.ipynb\" target=\"_parent\"><img src=\"https://colab.research.google.com/assets/colab-badge.svg\" alt=\"Open In Colab\"/></a>"
      ]
    },
    {
      "cell_type": "markdown",
      "metadata": {
        "id": "9_cjBlUkJta7",
        "colab_type": "text"
      },
      "source": [
        "# **Python Project 1- Analyzing Family's Monthly Expenditures**\n",
        "\n",
        "---\n",
        "\n"
      ]
    },
    {
      "cell_type": "markdown",
      "metadata": {
        "id": "7Jypm7DXqQU4",
        "colab_type": "text"
      },
      "source": [
        "# *Motivation:*\n",
        "The main goal of the project is to analyse and derive conclusions from a family's expenditures data- both in family and personal levels.\n",
        "\n",
        "Firstly, I've created a fabricated SQLite data file (attached for downloading), which includes different details: name of the card holder, card number, name of store, shopping category, the amount of money spent, date and day. \n"
      ]
    },
    {
      "cell_type": "code",
      "metadata": {
        "id": "rR7R9XHVuC2F",
        "colab_type": "code",
        "colab": {}
      },
      "source": [
        "# Importing relevant modules:\n",
        "import sqlite3\n",
        "import matplotlib.pyplot as plt\n",
        "from prettytable import PrettyTable\n",
        "import numpy as np"
      ],
      "execution_count": 1,
      "outputs": []
    },
    {
      "cell_type": "markdown",
      "metadata": {
        "id": "nhzOg5mtL_sJ",
        "colab_type": "text"
      },
      "source": [
        "# *Class Creation:*"
      ]
    },
    {
      "cell_type": "markdown",
      "metadata": {
        "id": "wTlKid18NsRE",
        "colab_type": "text"
      },
      "source": [
        "Family class must gets a file name (a db file of the monthly outcomes).\n",
        "It can also gets two more optional arguments: \n",
        "\n",
        "1- a budget \n",
        "\n",
        "2- a name of a person "
      ]
    },
    {
      "cell_type": "code",
      "metadata": {
        "id": "-5JixXTwp40Y",
        "colab_type": "code",
        "colab": {}
      },
      "source": [
        "class Family:\n",
        "  def __init__(self, fileName, **kwargs): # **kwargs can be a budget and/or a name\n",
        "    self.kwargs=kwargs\n",
        "    self.fileName=fileName                # Remember file name\n",
        "    self.last_name= self.fileName[:-3]    # Remember the Family's last name\n",
        "\n",
        "# Define attributes according to kwargs (if were given): \n",
        "    if not self.kwargs:                   # If no optional arguments were given\n",
        "       self.name=False\n",
        "    if 'name' in self.kwargs:             # Check if name was given\n",
        "      self.name= True\n",
        "    else:\n",
        "      self.name= False\n",
        "    if 'budget' in self.kwargs:           # Check if budegt was given\n",
        "      self.budget=self.kwargs['budget'] \n",
        "# If another kwargs were give, print a warning:\n",
        "    if self.kwargs and (('budget' or 'name') not in  self.kwargs):\n",
        "      print('NOTE: {} not defined!'.format(self.kwargs))\n",
        "\n",
        "# Retreive data from SQLite file:\n",
        "    conn=sqlite3.connect(self.fileName)\n",
        "    c= conn.cursor () \n",
        "    if not self.name:                     # Define \"unique_names\"\n",
        "      c.execute(\"SELECT * FROM \" + self.last_name)\n",
        "      self.data_list= c.fetchall()\n",
        "      self.unique_names= list(set([self.data_list[i][0] \\\n",
        "                                 for i in range(0,len(self.data_list))]))\n",
        "    else:  \n",
        "      self.unique_names=[self.kwargs['name']]\n",
        "      c.execute(\"SELECT * FROM \" + self.last_name + \" WHERE user_name = '\" \\\n",
        "                + self.unique_names[0]+\"'\" )\n",
        "      self.data_list= c.fetchall()\n",
        "\n",
        "# Method 1- Retrieves and prints names:\n",
        "  def get_names(self):\n",
        "      for name in self.unique_names:\n",
        "        print(name, end=' ')\n",
        "\n",
        "# Method 2- Retrieves tupels of names and cards. Prints it to user:\n",
        "  def get_cards(self):\n",
        "    self.unique_cards= list(set([(self.data_list[i][0],self.data_list[i][1]) \\\n",
        "                                  for i in range(0, len(self.data_list))]))\n",
        "    dict_cards={}  \n",
        "    for tup in self.unique_cards:\n",
        "      if tup[0] not in dict_cards:\n",
        "        dict_cards[tup[0]]= [tup[1]]\n",
        "      else:\n",
        "        dict_cards[tup[0]].append(tup[1])\n",
        "    for name, cards in dict_cards.items():\n",
        "      if len(cards)==1:\n",
        "        print('\\n{} has 1 card. Four last digits: {}'.format(name,cards[0]))\n",
        "      else:\n",
        "        print('{} have {} cards. Four last digits: '.format(name, len(cards),end=''))\n",
        "        for i in range(0,len(cards)):\n",
        "          print(cards[i], end=' ')\n",
        "\n",
        "# Method 3- Return purchases types distribution:\n",
        "  def purchases(self,*arg):\n",
        "    self.shops_dict={}                        # shopping_cat:[[shop_name],[amount],[num]]\n",
        "    for purchase in self.data_list:\n",
        "      if purchase[3] not in self.shops_dict:  # If type of shopping does not exist-->create\n",
        "        self.shops_dict[purchase[3]]= [[purchase[2]],[purchase[4]],[1]]\n",
        "      else:\n",
        "        if purchase[2] in self.shops_dict[purchase[3]][0]: # If shop_name also exists\n",
        "          ind= self.shops_dict[purchase[3]][0].index(purchase[2])\n",
        "          self.shops_dict[purchase[3]][1][ind] += purchase[4]\n",
        "          self.shops_dict[purchase[3]][2][ind] += 1\n",
        "        else: \n",
        "          self.shops_dict[purchase[3]][0].append(purchase[2])\n",
        "          self.shops_dict[purchase[3]][1].append(purchase[4])\n",
        "          self.shops_dict[purchase[3]][2].append(1)\n",
        "    sum_of_expenditures= sum([purchase[4] for purchase in self.data_list])\n",
        "    if not arg: # If the user called the function-> print\n",
        "      print('From {} to {} you spent total of {:.2f} NIS:'. \\\n",
        "            format(self.data_list[0][5], self.data_list[-1][5],sum_of_expenditures))\n",
        "      p_table=PrettyTable([\"Category\", \"Amount spent (NIS)\"])\n",
        "      for type_p in self.shops_dict:\n",
        "        p_table.add_row([type_p, round(sum(self.shops_dict[type_p][1]),2)])\n",
        "      print(p_table)\n",
        "    else:       # Otherwise-> return dictionary without printing\n",
        "        return self.shops_dict\n",
        "\n",
        "#Method 4- Pie chart visualization:\n",
        "  def pieChart(self):\n",
        "      shopping_dict=self.purchases(1)   #Use the purchases output\n",
        "      labels=[]\n",
        "      values=[]    \n",
        "      for key, val in shopping_dict.items():\n",
        "        labels.append(str(key))\n",
        "        values.append(sum(val[1]))\n",
        "      max_val=max(values)\n",
        "      max_ind= values.index(max_val)\n",
        "      explode= [0]*len(labels)\n",
        "      explode[max_ind]=0.1              # Explode only the highest value spent\n",
        "      \n",
        "      fig1, ax1 = plt.subplots()\n",
        "      ax1.pie(values, explode=explode, labels=labels, autopct='%1.1f%%',\n",
        "            shadow=True, startangle=0, rotatelabels=True)\n",
        "      ax1.axis('equal')                 # Equal aspect ratio ensures that pie is drawn as a circle.\n",
        "      plt.show()   \n",
        "\n",
        "# Method 5- Analysis per day:\n",
        "  def byDay(self):\n",
        "    day_list= ['Sunday','Monday','Tuesday','Wedensday','Thursday','Friday','Saterday']\n",
        "    table=PrettyTable([\"Day\", \"Highest Amount(NIS)\", \"Category\"])\n",
        "    for day in day_list:\n",
        "      dayClass= Day(day[0:3], self.data_list)\n",
        "      max_day= dayClass.max_purch()\n",
        "      table.add_row([day, max_day[0], max_day[1]])\n",
        "    print(table)\n",
        "\n",
        "#Method 6- Analysis per month\n",
        "  def byMonth(self):\n",
        "    mon_list=['Jan', 'Feb', 'Mar', 'Apr', 'May', 'Jun', 'Jul', 'Aug', 'Sep', 'Oct', 'Nov', 'Dec']\n",
        "    mon_len=[31, 28, 31, 30, 31, 30, 31, 31, 30, 31, 30, 31]\n",
        "    unique_mon= sorted(list(set([date[5][5:7] for date in self.data_list])))\n",
        "    sum_per_mon=[]\n",
        "    for mon in unique_mon: \n",
        "      purch_per_mon= [purchase[4] for purchase in self.data_list if purchase[5][5:7]==mon]\n",
        "      sum_per_mon.append(sum(purch_per_mon))\n",
        "    \n",
        "    x_location = np.arange(len(sum_per_mon))\n",
        "    x_tick_label= [mon_list[int(month)-1] for month in unique_mon]\n",
        "    plt.bar(x_location, sum_per_mon, align='center', alpha=0.5)\n",
        "    plt.xticks(x_location, x_tick_label)\n",
        "    plt.xlabel('Month')\n",
        "    plt.ylabel('Overall outcome (NIS)')\n",
        "    plt.title('Monthly Analysis')\n",
        "    # Print a notation if last month is not over yet: \n",
        "    if int(unique_mon[-1])<mon_len[int(unique_mon[-1])]:   \n",
        "      print('Note: {} is not over yet'. \\\n",
        "              format(mon_list[unique_mon.index(self.data_list[-1][5][5:7])]))\n",
        "    plt.show()\n",
        "\n",
        "# Method 7- Tips(budget is required):\n",
        "  def tips(self):\n",
        "      try:\n",
        "        sum_of_expenditures= sum([purchase[4] for purchase in self.data_list])\n",
        "        if sum_of_expenditures<=self.budget:\n",
        "          print('Well done! You did not exceed your budget!\\n'  \\\n",
        "                'Here are some of your purchases:')\n",
        "          self.purchases()\n",
        "        else:\n",
        "          print ('Oh, you exceeded your badget...\\n')\n",
        "          self.savings()\n",
        "      except AttributeError:          # If budget was not defined\n",
        "        print('Oops, no budget was given. Please define Family object again and insert budget.')\n",
        "\n",
        "      \n",
        "# Method 8- Savings tips\n",
        "  def savings(self):\n",
        "    self.spending_dict=self.purchases(1)\n",
        "    low_freq=[]\n",
        "    for key,val in self.spending_dict.items():\n",
        "      if len(val[0])>1 and sum(val[2])>len(val[0]) and key!='Bills': # Avoiding from conclusion of one-time purchase\n",
        "        avr_key=[]\n",
        "        for i in range(0,len(val[0])):\n",
        "            avr_key.append(val[1][i]/val[2][i])\n",
        "        mean_avr= sum(avr_key)/len(avr_key) # The total mean\n",
        "        max_val= max(avr_key) # Find the max amount of money spent\n",
        "        max_ind= avr_key.index(max_val) # Find the index of that max_val\n",
        "        min_val= min(avr_key)\n",
        "        min_ind= avr_key.index(min_val)\n",
        "        percentage_diff=((max_val-mean_avr) / mean_avr)*100\n",
        "        print('In {} category you had the highest amount of spending in \"{}\" store' \\\n",
        "              '\\n\\twith average spending of {:.2f} NIS per visit, which is {:.2f}% higher from the total ' \\\n",
        "              '\\n\\taverage of money spent in this category.' \\\n",
        "              .format(key,self.spending_dict[key][0][max_ind],max_val, percentage_diff))\n",
        "        print('\\tYou should consider buy more in \"{}\" store instead, which is cheaper.\\n' \\\n",
        "              .format(self.spending_dict[key][0][min_ind]))\n",
        "      else:\n",
        "        low_freq.append(key)\n",
        "        continue\n",
        "    # Handling one time purchase\\ bills\\ shopping category without competition:\n",
        "    one_time_shops=[]\n",
        "    for key in low_freq:\n",
        "      if key=='Bills':\n",
        "        max_bill= max(self.spending_dict['Bills'][1])\n",
        "        ind_max_bill= self.spending_dict['Bills'][1].index(max_bill)\n",
        "        print('Highest bill paid is for {} - {} NIS\\n'. format(self.spending_dict['Bills'][0][ind_max_bill], max_bill))\n",
        "      elif len(self.spending_dict[key][0])>1:\n",
        "        max_val= max(self.spending_dict[key][1])\n",
        "        max_ind= self.spending_dict[key][1].index(max_val)\n",
        "        print('You should buy less in \"{}\", since you had the highest purchase of {} category in here.\\n' \\\n",
        "              .format(self.spending_dict[key][0][max_ind], key))\n",
        "      else:\n",
        "        one_time_shops.append((self.spending_dict[key][0][0],self.spending_dict[key][1][0], self.spending_dict[key][2][0]))\n",
        "    for store,price,num in one_time_shops:\n",
        "      if num==1:\n",
        "        print('You visit \"{}\" one time - spent {} NIS'. format(store, price)) \n",
        "      else:\n",
        "        avr_amount=price/num\n",
        "        print('You visit \"{}\" {} times - spent {} NIS on average'.format(store, num, avr_amount))    \n"
      ],
      "execution_count": 16,
      "outputs": []
    },
    {
      "cell_type": "markdown",
      "metadata": {
        "id": "8cJXQ18aRSBl",
        "colab_type": "text"
      },
      "source": [
        "\n",
        "\n",
        "> Let's start with basics:\n",
        "\n"
      ]
    },
    {
      "cell_type": "code",
      "metadata": {
        "id": "M5Sg33ByRMtQ",
        "colab_type": "code",
        "colab": {}
      },
      "source": [
        "Geller= Family('Geller.db')"
      ],
      "execution_count": 17,
      "outputs": []
    },
    {
      "cell_type": "markdown",
      "metadata": {
        "id": "gaIvQpaAdbUH",
        "colab_type": "text"
      },
      "source": [
        "# *Methods:*"
      ]
    },
    {
      "cell_type": "markdown",
      "metadata": {
        "id": "uYF02b-NQjZc",
        "colab_type": "text"
      },
      "source": [
        "**Methods of names and cards**"
      ]
    },
    {
      "cell_type": "code",
      "metadata": {
        "id": "ddU-QfNsRemn",
        "colab_type": "code",
        "colab": {
          "base_uri": "https://localhost:8080/",
          "height": 35
        },
        "outputId": "2686b16b-fb80-4b80-930f-edb0d7d99e90"
      },
      "source": [
        "Geller.get_names()"
      ],
      "execution_count": 18,
      "outputs": [
        {
          "output_type": "stream",
          "text": [
            "Ross Rachel "
          ],
          "name": "stdout"
        }
      ]
    },
    {
      "cell_type": "code",
      "metadata": {
        "id": "CWcM3n0JgoXB",
        "colab_type": "code",
        "colab": {
          "base_uri": "https://localhost:8080/",
          "height": 69
        },
        "outputId": "b9210f8d-1673-4347-e11f-b9e4e99ce981"
      },
      "source": [
        "Geller.get_cards()"
      ],
      "execution_count": 19,
      "outputs": [
        {
          "output_type": "stream",
          "text": [
            "Rachel have 2 cards. Four last digits: \n",
            "6723 7829 \n",
            "Ross has 1 card. Four last digits: 9048\n"
          ],
          "name": "stdout"
        }
      ]
    },
    {
      "cell_type": "markdown",
      "metadata": {
        "id": "39DW-DyBRlLo",
        "colab_type": "text"
      },
      "source": [
        "**Methods for purchases data**\n",
        "\n",
        "This method creates a dictionary with keys of the shopping categories and values in the form of nested list of shop's name, amount of money spent and the number of purchases made there. \n",
        "\n",
        "It can display purchases data if no arguments are given (i.e, if user would call it) , but it can also returns the dictionary (useful for future analyses)."
      ]
    },
    {
      "cell_type": "code",
      "metadata": {
        "id": "e6ZFzpUpUK9m",
        "colab_type": "code",
        "colab": {
          "base_uri": "https://localhost:8080/",
          "height": 295
        },
        "outputId": "11e409b2-a229-4d27-966c-ac85e6f4b0e1"
      },
      "source": [
        "Geller.purchases()"
      ],
      "execution_count": 20,
      "outputs": [
        {
          "output_type": "stream",
          "text": [
            "From 2020-01-02 to 2020-02-12 you spent total of 16892.19 NIS:\n",
            "+------------------+--------------------+\n",
            "|     Category     | Amount spent (NIS) |\n",
            "+------------------+--------------------+\n",
            "|       Food       |      3602.93       |\n",
            "|    Restaurant    |       3368.7       |\n",
            "|     Clothing     |      1010.79       |\n",
            "|     Parking      |       575.0        |\n",
            "|       Fuel       |      3262.22       |\n",
            "|    Recreation    |       1017.0       |\n",
            "|      Bills       |      1722.35       |\n",
            "|      Pharma      |       464.3        |\n",
            "|     Car test     |       1369.0       |\n",
            "| Medical services |       450.0        |\n",
            "|  Miscellaneous   |        49.9        |\n",
            "+------------------+--------------------+\n"
          ],
          "name": "stdout"
        }
      ]
    },
    {
      "cell_type": "markdown",
      "metadata": {
        "id": "STQu95oGUs67",
        "colab_type": "text"
      },
      "source": [
        "\n",
        "> Well, that is a lot of data for a layman to follow...\n",
        "\n",
        "\n",
        "> So let's make a better visualization ...\n",
        "\n",
        "\n",
        "\n",
        "\n",
        "\n",
        "\n",
        "\n"
      ]
    },
    {
      "cell_type": "code",
      "metadata": {
        "id": "9Xz-2ZiZr6jJ",
        "colab_type": "code",
        "colab": {
          "base_uri": "https://localhost:8080/",
          "height": 344
        },
        "outputId": "03d693bf-8de6-4d63-98cb-e72ef540ad4a"
      },
      "source": [
        "Geller.pieChart()"
      ],
      "execution_count": 21,
      "outputs": [
        {
          "output_type": "display_data",
          "data": {
            "image/png": "[encoded data removed]",
            "text/plain": [
              "<Figure size 432x288 with 1 Axes>"
            ]
          },
          "metadata": {
            "tags": []
          }
        }
      ]
    },
    {
      "cell_type": "markdown",
      "metadata": {
        "id": "kg2uAg3G0S3Y",
        "colab_type": "text"
      },
      "source": [
        "**Analysis for purchases per day**\n",
        "\n",
        "I created a new class- called Day, which gets the day name (e.g., Sun, Mon...) and the data list (i.e., the data from Family class- with or without name). However, within the class another filter is made and takes the relevant data for the given day.\n",
        "\n",
        "That class has two methods:\n",
        "\n",
        "1- purch_byDay_dict- similar to the purchase method of Family class, return the dictionary (not printing anything)\n",
        "\n",
        "2- max_purch- calls the purch_byDay_dict and returns the maximum value of money spent and its category (Family class calls that method)."
      ]
    },
    {
      "cell_type": "code",
      "metadata": {
        "id": "RhbF5hvW0Q7T",
        "colab_type": "code",
        "colab": {}
      },
      "source": [
        "class Day:\n",
        "  def __init__(self, day_name, data_list):\n",
        "    self.data_list=data_list\n",
        "    self.dayName=day_name\n",
        "    self.data_by_day=[]\n",
        "\n",
        "    for purchase in self.data_list:\n",
        "      if purchase[6]==self.dayName:\n",
        "           self.data_by_day.append(purchase)\n",
        "\n",
        "  def purch_byDay_dict(self):\n",
        "    self.shops_dict={}                        # type:[[shop_name],[amount],[num]]\n",
        "    for purchase in self.data_by_day:\n",
        "      if purchase[3] not in self.shops_dict:  #If type of shopping does not exist-->create\n",
        "        self.shops_dict[purchase[3]]= [[purchase[2]],[purchase[4]],[1]]\n",
        "      else:\n",
        "        if purchase[2] in self.shops_dict[purchase[3]][0]: # If shop_name also exist\n",
        "          ind= self.shops_dict[purchase[3]][0].index(purchase[2])\n",
        "          self.shops_dict[purchase[3]][1][ind] += purchase[4]\n",
        "          self.shops_dict[purchase[3]][2][ind] += 1\n",
        "        else: \n",
        "          self.shops_dict[purchase[3]][0].append(purchase[2])\n",
        "          self.shops_dict[purchase[3]][1].append(purchase[4])\n",
        "          self.shops_dict[purchase[3]][2].append(1)\n",
        "    return self.shops_dict\n",
        "\n",
        "  def max_purch(self):\n",
        "    self.purch_dict=self.purch_byDay_dict()\n",
        "    purch_list=[(sum(self.purch_dict[key][1]),key) for key in self.purch_dict]\n",
        "    max_val= list(sorted(purch_list, key= lambda x: x[0], reverse= True))\n",
        "    return max_val[0]"
      ],
      "execution_count": 23,
      "outputs": []
    },
    {
      "cell_type": "code",
      "metadata": {
        "id": "XSsnN7855iob",
        "colab_type": "code",
        "colab": {
          "base_uri": "https://localhost:8080/",
          "height": 208
        },
        "outputId": "f802049b-efe7-4ebd-a707-89fbb575269c"
      },
      "source": [
        "Geller.byDay()"
      ],
      "execution_count": 24,
      "outputs": [
        {
          "output_type": "stream",
          "text": [
            "+-----------+---------------------+------------+\n",
            "|    Day    | Highest Amount(NIS) |  Category  |\n",
            "+-----------+---------------------+------------+\n",
            "|   Sunday  |        829.23       |    Fuel    |\n",
            "|   Monday  |        289.0        | Recreation |\n",
            "|  Tuesday  |       2467.69       |    Food    |\n",
            "| Wedensday |        673.0        |    Food    |\n",
            "|  Thursday |        621.0        |   Bills    |\n",
            "|   Friday  |       1403.76       |    Fuel    |\n",
            "|  Saterday |        726.0        | Restaurant |\n",
            "+-----------+---------------------+------------+\n"
          ],
          "name": "stdout"
        }
      ]
    },
    {
      "cell_type": "markdown",
      "metadata": {
        "id": "Tz7CFTOU_IwQ",
        "colab_type": "text"
      },
      "source": [
        "**Analysis for purchases per month**\n",
        "\n",
        "That graph shows the total expenditures per month."
      ]
    },
    {
      "cell_type": "code",
      "metadata": {
        "id": "92aWzHYY_Hu8",
        "colab_type": "code",
        "colab": {
          "base_uri": "https://localhost:8080/",
          "height": 313
        },
        "outputId": "04ebed97-6880-49f6-9fff-0214d98cce09"
      },
      "source": [
        "Geller.byMonth()"
      ],
      "execution_count": 25,
      "outputs": [
        {
          "output_type": "stream",
          "text": [
            "Note: Feb is not over yet\n"
          ],
          "name": "stdout"
        },
        {
          "output_type": "display_data",
          "data": {
            "image/png": "[encoded data removed]",
            "text/plain": [
              "<Figure size 432x288 with 1 Axes>"
            ]
          },
          "metadata": {
            "tags": [],
            "needs_background": "light"
          }
        }
      ]
    },
    {
      "cell_type": "markdown",
      "metadata": {
        "id": "gyplXIqWWQ4z",
        "colab_type": "text"
      },
      "source": [
        "***Methods for analysing data***\n",
        "\n",
        "NOTE: This method requires a budget, you will get an error otherwise.\n",
        "\n",
        "The main goal of that section is to conclude few tips to help the user save money. Specifically, method 7 (called \"tips\") calls method 8 (\"savings\") if the budget was exceeded. Of course, the user can also call \"savings\" if he wishes (even if he stayed within the budget)."
      ]
    },
    {
      "cell_type": "code",
      "metadata": {
        "id": "5M0bjUwgZVUW",
        "colab_type": "code",
        "colab": {
          "base_uri": "https://localhost:8080/",
          "height": 35
        },
        "outputId": "21cad0a4-027a-4f92-b077-39ec2bc22a6c"
      },
      "source": [
        "Geller.tips()"
      ],
      "execution_count": 26,
      "outputs": [
        {
          "output_type": "stream",
          "text": [
            "Oops, no budget was given. Please define Family object again and insert budget.\n"
          ],
          "name": "stdout"
        }
      ]
    },
    {
      "cell_type": "markdown",
      "metadata": {
        "id": "oYlEuFrCZdgE",
        "colab_type": "text"
      },
      "source": [
        "\n",
        "\n",
        "> I told you so...\n",
        "\n"
      ]
    },
    {
      "cell_type": "code",
      "metadata": {
        "id": "4-erhzpbZiQ9",
        "colab_type": "code",
        "colab": {
          "base_uri": "https://localhost:8080/",
          "height": 624
        },
        "outputId": "bbde44f0-c5c1-43b7-ed89-41964215f1ce"
      },
      "source": [
        "Geller= Family('Geller.db',budget=5000)\n",
        "Geller.tips()"
      ],
      "execution_count": 27,
      "outputs": [
        {
          "output_type": "stream",
          "text": [
            "Oh, you exceeded your badget...\n",
            "\n",
            "In Food category you had the highest amount of spending in \"Rami Cohen\" store\n",
            "\twith average spending of 617.33 NIS per visit, which is 68.35% higher from the total \n",
            "\taverage of money spent in this category.\n",
            "\tYou should consider buy more in \"Bakery and more\" store instead, which is cheaper.\n",
            "\n",
            "In Restaurant category you had the highest amount of spending in \"Best Burger\" store\n",
            "\twith average spending of 213.50 NIS per visit, which is 187.37% higher from the total \n",
            "\taverage of money spent in this category.\n",
            "\tYou should consider buy more in \"Coffee and Cake\" store instead, which is cheaper.\n",
            "\n",
            "In Parking category you had the highest amount of spending in \"Sea Parking\" store\n",
            "\twith average spending of 35.00 NIS per visit, which is 50.00% higher from the total \n",
            "\taverage of money spent in this category.\n",
            "\tYou should consider buy more in \"Monica's Parking\" store instead, which is cheaper.\n",
            "\n",
            "In Fuel category you had the highest amount of spending in \"So Fuel\" store\n",
            "\twith average spending of 323.75 NIS per visit, which is 13.67% higher from the total \n",
            "\taverage of money spent in this category.\n",
            "\tYou should consider buy more in \"Fuel4U\" store instead, which is cheaper.\n",
            "\n",
            "In Recreation category you had the highest amount of spending in \"Studio Shape\" store\n",
            "\twith average spending of 289.00 NIS per visit, which is 19.09% higher from the total \n",
            "\taverage of money spent in this category.\n",
            "\tYou should consider buy more in \"Safari\" store instead, which is cheaper.\n",
            "\n",
            "You should buy less in \"Shoes is us\", since you had the highest purchase of Clothing category in here.\n",
            "\n",
            "Highest bill paid is for Electricity - 621.0 NIS\n",
            "\n",
            "You visit \"Old Pharm\" 4 times - spent 116.075 NIS on average\n",
            "You visit \"Gold Wheels\" one time - spent 1369.0 NIS\n",
            "You visit \"Dental Care\" one time - spent 450.0 NIS\n",
            "You visit \"Funny Toys\" one time - spent 49.9 NIS\n"
          ],
          "name": "stdout"
        }
      ]
    },
    {
      "cell_type": "markdown",
      "metadata": {
        "id": "jawtn7J2aHPF",
        "colab_type": "text"
      },
      "source": [
        "\n",
        "\n",
        "> Let's run all the mehods again but ask for personal-level analysis:\n",
        "\n",
        "\n"
      ]
    },
    {
      "cell_type": "code",
      "metadata": {
        "id": "9P7_6EBVWMuP",
        "colab_type": "code",
        "colab": {
          "base_uri": "https://localhost:8080/",
          "height": 1000
        },
        "outputId": "8faefd30-d90a-47a2-86f4-7282c8b2340a"
      },
      "source": [
        "Geller= Family('Geller.db',budget=15000, name='Ross')\n",
        "\n",
        "Geller.purchases()\n",
        "Geller.pieChart()\n",
        "Geller.byDay()\n",
        "Geller.byMonth()\n",
        "\n",
        "Geller.tips() # An example for not exceeding budget"
      ],
      "execution_count": 28,
      "outputs": [
        {
          "output_type": "stream",
          "text": [
            "From 2020-01-02 to 2020-02-12 you spent total of 6491.63 NIS:\n",
            "+------------+--------------------+\n",
            "|  Category  | Amount spent (NIS) |\n",
            "+------------+--------------------+\n",
            "|    Food    |       298.74       |\n",
            "|    Fuel    |      1680.59       |\n",
            "| Restaurant |       2554.5       |\n",
            "|  Parking   |        35.0        |\n",
            "|   Bills    |       329.8        |\n",
            "|  Car test  |       1369.0       |\n",
            "| Recreation |       224.0        |\n",
            "+------------+--------------------+\n"
          ],
          "name": "stdout"
        },
        {
          "output_type": "display_data",
          "data": {
            "image/png": "[encoded data removed]",
            "text/plain": [
              "<Figure size 432x288 with 1 Axes>"
            ]
          },
          "metadata": {
            "tags": []
          }
        },
        {
          "output_type": "stream",
          "text": [
            "+-----------+---------------------+------------+\n",
            "|    Day    | Highest Amount(NIS) |  Category  |\n",
            "+-----------+---------------------+------------+\n",
            "|   Sunday  |        343.0        | Restaurant |\n",
            "|   Monday  |        263.23       |    Fuel    |\n",
            "|  Tuesday  |        1369.0       |  Car test  |\n",
            "| Wedensday |        270.0        |    Fuel    |\n",
            "|  Thursday |        301.0        | Restaurant |\n",
            "|   Friday  |        854.5        | Restaurant |\n",
            "|  Saterday |        460.0        | Restaurant |\n",
            "+-----------+---------------------+------------+\n",
            "Note: Feb is not over yet\n"
          ],
          "name": "stdout"
        },
        {
          "output_type": "display_data",
          "data": {
            "image/png": "[encoded data removed]",
            "text/plain": [
              "<Figure size 432x288 with 1 Axes>"
            ]
          },
          "metadata": {
            "tags": [],
            "needs_background": "light"
          }
        },
        {
          "output_type": "stream",
          "text": [
            "Well done! You did not exceed your budget!\n",
            "Here are some of your purchases:\n",
            "From 2020-01-02 to 2020-02-12 you spent total of 6491.63 NIS:\n",
            "+------------+--------------------+\n",
            "|  Category  | Amount spent (NIS) |\n",
            "+------------+--------------------+\n",
            "|    Food    |       298.74       |\n",
            "|    Fuel    |      1680.59       |\n",
            "| Restaurant |       2554.5       |\n",
            "|  Parking   |        35.0        |\n",
            "|   Bills    |       329.8        |\n",
            "|  Car test  |       1369.0       |\n",
            "| Recreation |       224.0        |\n",
            "+------------+--------------------+\n"
          ],
          "name": "stdout"
        }
      ]
    },
    {
      "cell_type": "markdown",
      "metadata": {
        "id": "zUlhmv20cisq",
        "colab_type": "text"
      },
      "source": [
        "### **THANK YOU :)**"
      ]
    }
  ]
}